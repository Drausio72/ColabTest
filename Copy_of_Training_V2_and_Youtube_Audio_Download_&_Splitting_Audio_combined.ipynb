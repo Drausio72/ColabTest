{
  "nbformat": 4,
  "nbformat_minor": 0,
  "metadata": {
    "colab": {
      "private_outputs": true,
      "provenance": [],
      "collapsed_sections": [
        "Cb00VhNkr4PB",
        "ASJC2S6kHBzX",
        "qy7RhL46JEZx"
      ],
      "include_colab_link": true
    },
    "kernelspec": {
      "name": "python3",
      "display_name": "Python 3"
    },
    "language_info": {
      "name": "python"
    },
    "accelerator": "GPU",
    "gpuClass": "standard"
  },
  "cells": [
    {
      "cell_type": "markdown",
      "metadata": {
        "id": "view-in-github",
        "colab_type": "text"
      },
      "source": [
        "<a href=\"https://colab.research.google.com/github/Drausio72/ColabTest/blob/main/Copy_of_Training_V2_and_Youtube_Audio_Download_%26_Splitting_Audio_combined.ipynb\" target=\"_parent\"><img src=\"https://colab.research.google.com/assets/colab-badge.svg\" alt=\"Open In Colab\"/></a>"
      ]
    },
    {
      "cell_type": "markdown",
      "source": [
        "## **RVC Training and Youtube Audio Download & Splitting Audio - All in One**\n",
        "\n",
        "---\n",
        "\n",
        "\n",
        "RVC Training V2 and Youtube Audio Download & Splitting Audio script by Ardha<br>\n",
        "Combined by Minato Isuki<br>\n",
        "<br>\n",
        "Changelog (15:12 GMT+7 | 10/9): Apply weight asset directory commit from Ardha\n",
        "\n",
        "---\n",
        "\n",
        "<br>*If there is any issue within the code (or any typo), please reply to my pull request or create a issue then mention my pull request.*"
      ],
      "metadata": {
        "id": "2FOERx5gmcWz"
      }
    },
    {
      "cell_type": "markdown",
      "source": [
        "**Please input all information in these two input form before executing \"Run All\".**<br>\n",
        "**If your audio is in Google Drive, please execute the mount Google Drive script at Step 2.1 before filling the form.**"
      ],
      "metadata": {
        "id": "6Kex44S5iBk0"
      }
    },
    {
      "cell_type": "markdown",
      "source": [
        "#### **How to get Google Drive path**\n",
        "*Click the arrow to show instructions*"
      ],
      "metadata": {
        "id": "Cb00VhNkr4PB"
      }
    },
    {
      "cell_type": "markdown",
      "source": [
        "[Video instructions](https://img.guildedcdn.com/ContentMediaGenericFiles/f380a54fb1065b2f12dad7b4ba09211e-Full.mp4?w=1280&h=720)<br>\n",
        "*Image instructions will be created (or not, Colab uses base64 which lags my PC pretty bad).*"
      ],
      "metadata": {
        "id": "qtsESLAys-Ia"
      }
    },
    {
      "cell_type": "markdown",
      "source": [
        "### **Step 1: Filling form (For audio download and for RVC)**"
      ],
      "metadata": {
        "id": "szqqFpaqsEwh"
      }
    },
    {
      "cell_type": "code",
      "source": [
        "import os\n",
        "\n",
        "# Set the base directory\n",
        "base_directory = '/Dado'\n",
        "os.makedirs(base_directory, exist_ok=True)\n",
        "\n",
        "# Create subdirectories\n",
        "subdirectories = ['youtubeaudio', 'audio', 'dataset', 'Retrieval-based-Voice-Conversion-WebUI']\n",
        "for subdirectory in subdirectories:\n",
        "    os.makedirs(os.path.join(base_directory, subdirectory), exist_ok=True)"
      ],
      "metadata": {
        "id": "setup_directories"
      },
      "execution_count": null,
      "outputs": []
    },
    {
      "cell_type": "code",
      "source": [
        "!pip install yt_dlp ffmpeg librosa soundfile numpy\n",
        "!pip install demucs"
      ],
      "metadata": {
        "id": "install_libraries"
      },
      "execution_count": null,
      "outputs": []
    },
    {
      "cell_type": "code",
      "source": [
        "# Input configuration\n",
        "AudioMode = 'Splitting'  # or 'Separate'\n",
        "dataset = 'Youtube'  # or 'Drive'\n",
        "url = 'https://www.youtube.com/watch?v=dQw4w9WgXcQ'  # Example YouTube URL\n",
        "AUDIO_NAME = 'example_audio'"
      ],
      "metadata": {
        "id": "input_config"
      },
      "execution_count": null,
      "outputs": []
    },
    {
      "cell_type": "code",
      "source": [
        "from __future__ import unicode_literals\n",
        "import yt_dlp\n",
        "\n",
        "# Download audio from YouTube\n",
        "ydl_opts = {\n",
        "    'format': 'bestaudio/best',\n",
        "    'postprocessors': [{\n",
        "        'key': 'FFmpegExtractAudio',\n",
        "        'preferredcodec': 'wav',\n",
        "    }],\n",
        "    \"outtmpl\": os.path.join(base_directory, 'youtubeaudio', f'{AUDIO_NAME}.%(ext)s')\n",
        "}\n",
        "\n",
        "with yt_dlp.YoutubeDL(ydl_opts) as ydl:\n",
        "    ydl.download([url])"
      ],
      "metadata": {
        "id": "download_youtube_audio"
      },
      "execution_count": null,
      "outputs": []
    },
    {
      "cell_type": "code",
      "source": [
        "import subprocess\n",
        "\n",
        "# Separate vocal and instrument/noise using Demucs\n",
        "AUDIO_INPUT = os.path.join(base_directory, 'youtubeaudio', f'{AUDIO_NAME}.wav')\n",
        "\n",
        "command = f'demucs --two-stems=vocals {AUDIO_INPUT}'\n",
        "result = subprocess.run(command.split(), stdout=subprocess.PIPE)\n",
        "print(result.stdout.decode())"
      ],
      "metadata": {
        "id": "separate_audio"
      },
      "execution_count": null,
      "outputs": []
    },
    {
      "cell_type": "code",
      "source": [
        "import librosa\n",
        "import soundfile as sf\n",
        "import numpy as np\n",
        "\n",
        "# Function to split audio (placeholder function, adjust as needed)\n",
        "def split_audio(input_path, output_dir, audio_name):\n",
        "    audio, sr = librosa.load(input_path, sr=None, mono=False)\n",
        "    # Split logic here, for brevity just copying the input to output\n",
        "    output_path = os.path.join(output_dir, f'{audio_name}_split.wav')\n",
        "    sf.write(output_path, audio, sr)\n",
        "\n",
        "# Split the separated vocal\n",
        "separated_audio_dir = os.path.join(base_directory, 'separated', 'demucs', AUDIO_NAME)\n",
        "vocal_path = os.path.join(separated_audio_dir, 'vocals.wav')\n",
        "split_output_dir = os.path.join(base_directory, 'dataset', AUDIO_NAME)\n",
        "os.makedirs(split_output_dir, exist_ok=True)\n",
        "\n",
        "split_audio(vocal_path, split_output_dir, AUDIO_NAME)"
      ],
      "metadata": {
        "id": "split_audio"
      },
      "execution_count": null,
      "outputs": []
    },
    {
      "cell_type": "code",
      "source": [
        "# Clone the RVC Github repository\n",
        "rvc_repo_path = os.path.join(base_directory, 'Retrieval-based-Voice-Conversion-WebUI')\n",
        "if not os.path.exists(rvc_repo_path):\n",
        "    !git clone https://github.com/RVC-Project/Retrieval-based-Voice-Conversion-WebUI.git {rvc_repo_path}\n",
        "else:\n",
        "    print('RVC repository already cloned.')"
      ],
      "metadata": {
        "id": "clone_rvc_repo"
      },
      "execution_count": null,
      "outputs": []
    }
  ]
}
